{
 "cells": [
  {
   "cell_type": "code",
   "execution_count": 2,
   "id": "88397089-4e1d-4119-abb4-e0fcace38d3e",
   "metadata": {},
   "outputs": [],
   "source": [
    "import pandas"
   ]
  },
  {
   "cell_type": "code",
   "execution_count": 3,
   "id": "c1df5bc4-81a7-4439-ae80-0a5ce9e4b1ca",
   "metadata": {},
   "outputs": [],
   "source": [
    "drug = pandas.read_csv(\"drug.csv\")"
   ]
  }
 ],
 "metadata": {
  "kernelspec": {
   "display_name": "Python 3 (ipykernel)",
   "language": "python",
   "name": "python3"
  },
  "language_info": {
   "codemirror_mode": {
    "name": "ipython",
    "version": 3
   },
   "file_extension": ".py",
   "mimetype": "text/x-python",
   "name": "python",
   "nbconvert_exporter": "python",
   "pygments_lexer": "ipython3",
   "version": "3.10.4"
  }
 },
 "nbformat": 4,
 "nbformat_minor": 5
}
